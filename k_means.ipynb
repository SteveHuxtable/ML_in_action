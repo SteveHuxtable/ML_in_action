{
 "metadata": {
  "language_info": {
   "codemirror_mode": {
    "name": "ipython",
    "version": 3
   },
   "file_extension": ".py",
   "mimetype": "text/x-python",
   "name": "python",
   "nbconvert_exporter": "python",
   "pygments_lexer": "ipython3",
   "version": "3.7.7-final"
  },
  "orig_nbformat": 2,
  "kernelspec": {
   "name": "python37764bitbasecondae23d729ba38b48da967e4e201f9aaf92",
   "display_name": "Python 3.7.7 64-bit ('base': conda)"
  }
 },
 "nbformat": 4,
 "nbformat_minor": 2,
 "cells": [
  {
   "cell_type": "markdown",
   "metadata": {},
   "source": [
    "## How to implement k means "
   ]
  },
  {
   "cell_type": "code",
   "execution_count": 104,
   "metadata": {},
   "outputs": [],
   "source": [
    "import kNN_manual\n",
    "group, labels = kNN_manual.create_dataset()"
   ]
  },
  {
   "cell_type": "code",
   "execution_count": 105,
   "metadata": {},
   "outputs": [
    {
     "output_type": "execute_result",
     "data": {
      "text/plain": "(array([[1. , 1.1],\n        [1. , 1. ],\n        [0. , 0. ],\n        [0. , 0.1]]),\n ['A', 'A', 'B', 'B'])"
     },
     "metadata": {},
     "execution_count": 105
    }
   ],
   "source": [
    "group, labels"
   ]
  },
  {
   "cell_type": "code",
   "execution_count": 106,
   "metadata": {
    "tags": []
   },
   "outputs": [
    {
     "output_type": "stream",
     "name": "stdout",
     "text": "['A', 'A', 'B', 'B']\n[2.21 2.   0.   0.01]\n"
    }
   ],
   "source": [
    "# how to solve this problem? write the code without using functions\n",
    "origin_point = [0, 0]\n",
    "distances = sum((tile(origin_point, reps=(group.shape[0], 1)) - group) ** 2, axis=1)\n",
    "print(labels)\n",
    "print(distances)"
   ]
  },
  {
   "cell_type": "code",
   "execution_count": 107,
   "metadata": {},
   "outputs": [
    {
     "output_type": "execute_result",
     "data": {
      "text/plain": "range(0, 4)"
     },
     "metadata": {},
     "execution_count": 107
    }
   ],
   "source": [
    "# sort the data\n",
    "distance_indices = distances.argsort()\n",
    "range(len(distance_indices))"
   ]
  },
  {
   "cell_type": "code",
   "execution_count": 108,
   "metadata": {
    "tags": []
   },
   "outputs": [
    {
     "output_type": "stream",
     "name": "stdout",
     "text": "[('B', 2), ('A', 1)]\n"
    },
    {
     "output_type": "execute_result",
     "data": {
      "text/plain": "'B'"
     },
     "metadata": {},
     "execution_count": 108
    }
   ],
   "source": [
    "# to build the pairs: class : distance\n",
    "k = 3\n",
    "class_dis_pairs = {}\n",
    "for i in range(k):\n",
    "    label_i = labels[distance_indices[i]]\n",
    "    class_dis_pairs[label_i] = class_dis_pairs.get(label_i, 0) + 1\n",
    "\n",
    "# sort the dic by value in dict\n",
    "class_dis_pairs = sorted(class_dis_pairs.items(), key = lambda x: x[1], reverse=True)\n",
    "print(class_dis_pairs)\n",
    "\n",
    "# output the class of the point\n",
    "class_dis_pairs[0][0]"
   ]
  },
  {
   "cell_type": "code",
   "execution_count": 118,
   "metadata": {
    "tags": []
   },
   "outputs": [
    {
     "output_type": "stream",
     "name": "stdout",
     "text": "[('B', 2), ('A', 1)]\nB\n[('A', 2), ('B', 1)]\nA\n"
    }
   ],
   "source": [
    "import kNN_manual\n",
    "from importlib import reload\n",
    "\n",
    "group, labels = kNN_manual.create_dataset()\n",
    "\n",
    "reload(kNN_manual)\n",
    "\n",
    "print(kNN_manual.hu_classify())\n",
    "print(kNN_manual.hu_classify([2, 3], group=group, labels=labels, k=3))"
   ]
  },
  {
   "cell_type": "code",
   "execution_count": null,
   "metadata": {},
   "outputs": [],
   "source": []
  }
 ]
}